{
 "cells": [
  {
   "cell_type": "markdown",
   "id": "7fb067a5-bf2a-4021-8386-3aedce146846",
   "metadata": {},
   "source": [
    "1"
   ]
  },
  {
   "cell_type": "code",
   "execution_count": 1,
   "id": "dbeb5a69-9ecb-4c7b-98b4-2382462b2295",
   "metadata": {},
   "outputs": [
    {
     "name": "stdout",
     "output_type": "stream",
     "text": [
      "                       Date      Open      High       Low     Close  \\\n",
      "0 2010-06-29 00:00:00-04:00  1.266667  1.666667  1.169333  1.592667   \n",
      "1 2010-06-30 00:00:00-04:00  1.719333  2.028000  1.553333  1.588667   \n",
      "2 2010-07-01 00:00:00-04:00  1.666667  1.728000  1.351333  1.464000   \n",
      "3 2010-07-02 00:00:00-04:00  1.533333  1.540000  1.247333  1.280000   \n",
      "4 2010-07-06 00:00:00-04:00  1.333333  1.333333  1.055333  1.074000   \n",
      "\n",
      "      Volume  Dividends  Stock Splits  \n",
      "0  281494500        0.0           0.0  \n",
      "1  257806500        0.0           0.0  \n",
      "2  123282000        0.0           0.0  \n",
      "3   77097000        0.0           0.0  \n",
      "4  103003500        0.0           0.0  \n"
     ]
    }
   ],
   "source": [
    "import yfinance as yf\n",
    "import pandas as pd\n",
    "\n",
    "# Obtener datos de acciones de Tesla\n",
    "tesla = yf.Ticker(\"TSLA\")\n",
    "tesla_data = tesla.history(period=\"max\")\n",
    "\n",
    "# Reiniciar el índice y mostrar las primeras 5 filas\n",
    "tesla_data.reset_index(inplace=True)\n",
    "print(tesla_data.head())\n"
   ]
  },
  {
   "cell_type": "code",
   "execution_count": 7,
   "id": "20f26475-1b12-4679-97e0-0988c2ebe408",
   "metadata": {},
   "outputs": [
    {
     "name": "stdout",
     "output_type": "stream",
     "text": [
      "    Date Revenue\n",
      "11  2013  $2,013\n",
      "12  2012    $413\n",
      "13  2011    $204\n",
      "14  2010    $117\n",
      "15  2009    $112\n"
     ]
    },
    {
     "name": "stderr",
     "output_type": "stream",
     "text": [
      "/tmp/ipykernel_1090/1760382864.py:22: FutureWarning: Passing literal html to 'read_html' is deprecated and will be removed in a future version. To read from a literal string, wrap it in a 'StringIO' object.\n",
      "  df = pd.read_html(str(table))[0]\n"
     ]
    }
   ],
   "source": [
    "import requests\n",
    "import pandas as pd\n",
    "from bs4 import BeautifulSoup\n",
    "\n",
    "# URL de los ingresos de Tesla en Macrotrends\n",
    "url = \"https://www.macrotrends.net/stocks/charts/TSLA/tesla/revenue\"\n",
    "\n",
    "# Configurar headers para evitar bloqueos\n",
    "headers = {\"User-Agent\": \"Mozilla/5.0\"}\n",
    "html = requests.get(url, headers=headers).text\n",
    "\n",
    "# Extraer datos con BeautifulSoup\n",
    "soup = BeautifulSoup(html, \"html.parser\")\n",
    "\n",
    "# Buscar todas las tablas en la página\n",
    "tables = soup.find_all(\"table\")\n",
    "\n",
    "# Verificar si hay tablas disponibles\n",
    "if len(tables) > 0:\n",
    "    # Intentar extraer la tabla correcta\n",
    "    for table in tables:\n",
    "        df = pd.read_html(str(table))[0]\n",
    "        if \"Revenue\" in df.columns[1]:  # Verificar si la tabla tiene \"Revenue\"\n",
    "            tesla_revenue = df\n",
    "            tesla_revenue.columns = [\"Date\", \"Revenue\"]  # Renombrar columnas\n",
    "            tesla_revenue.dropna(inplace=True)  # Eliminar valores nulos\n",
    "            print(tesla_revenue.tail())  # Mostrar últimas 5 filas\n",
    "            break\n",
    "    else:\n",
    "        print(\"No se encontró la tabla correcta de ingresos de Tesla.\")\n",
    "else:\n",
    "    print(\"No se encontraron tablas de ingresos para Tesla.\")\n"
   ]
  },
  {
   "cell_type": "code",
   "execution_count": 10,
   "id": "4720b269-eac6-40cb-97eb-173d51e27575",
   "metadata": {},
   "outputs": [
    {
     "name": "stdout",
     "output_type": "stream",
     "text": [
      "    Date Revenue\n",
      "11  2013  $8,887\n",
      "12  2012  $9,551\n",
      "13  2011  $9,474\n",
      "14  2010  $9,078\n",
      "15  2009  $8,806\n"
     ]
    },
    {
     "name": "stderr",
     "output_type": "stream",
     "text": [
      "/tmp/ipykernel_1090/1340851100.py:17: FutureWarning: Passing literal html to 'read_html' is deprecated and will be removed in a future version. To read from a literal string, wrap it in a 'StringIO' object.\n",
      "  df = pd.read_html(str(table))[0]\n"
     ]
    }
   ],
   "source": [
    "# URL de los ingresos de GameStop en Macrotrends\n",
    "url = \"https://www.macrotrends.net/stocks/charts/GME/gamestop/revenue\"\n",
    "\n",
    "# Configurar headers para evitar bloqueos\n",
    "html = requests.get(url, headers=headers).text\n",
    "\n",
    "# Extraer datos con BeautifulSoup\n",
    "soup = BeautifulSoup(html, \"html.parser\")\n",
    "\n",
    "# Buscar todas las tablas en la página\n",
    "tables = soup.find_all(\"table\")\n",
    "\n",
    "# Verificar si hay tablas disponibles\n",
    "if len(tables) > 0:\n",
    "    # Intentar extraer la tabla correcta\n",
    "    for table in tables:\n",
    "        df = pd.read_html(str(table))[0]\n",
    "        if \"Revenue\" in df.columns[1]:  # Verificar si la tabla tiene \"Revenue\"\n",
    "            gme_revenue = df\n",
    "            gme_revenue.columns = [\"Date\", \"Revenue\"]  # Renombrar columnas\n",
    "            gme_revenue.dropna(inplace=True)  # Eliminar valores nulos\n",
    "            print(gme_revenue.tail())  # Mostrar últimas 5 filas\n",
    "            break\n",
    "    else:\n",
    "        print(\"No se encontró la tabla correcta de ingresos de GameStop.\")\n",
    "else:\n",
    "    print(\"No se encontraron tablas de ingresos para GameStop.\")\n"
   ]
  },
  {
   "cell_type": "code",
   "execution_count": 13,
   "id": "2c348573-762d-4a87-a7b0-a36f8a3353d2",
   "metadata": {},
   "outputs": [
    {
     "ename": "NameError",
     "evalue": "name 'response' is not defined",
     "output_type": "error",
     "traceback": [
      "\u001b[0;31m---------------------------------------------------------------------------\u001b[0m",
      "\u001b[0;31mNameError\u001b[0m                                 Traceback (most recent call last)",
      "Cell \u001b[0;32mIn[13], line 4\u001b[0m\n\u001b[1;32m      1\u001b[0m \u001b[38;5;28;01mimport\u001b[39;00m\u001b[38;5;250m \u001b[39m\u001b[38;5;21;01mpandas\u001b[39;00m\u001b[38;5;250m \u001b[39m\u001b[38;5;28;01mas\u001b[39;00m\u001b[38;5;250m \u001b[39m\u001b[38;5;21;01mpd\u001b[39;00m\n\u001b[1;32m      2\u001b[0m \u001b[38;5;28;01mfrom\u001b[39;00m\u001b[38;5;250m \u001b[39m\u001b[38;5;21;01mbs4\u001b[39;00m\u001b[38;5;250m \u001b[39m\u001b[38;5;28;01mimport\u001b[39;00m BeautifulSoup\n\u001b[0;32m----> 4\u001b[0m html \u001b[38;5;241m=\u001b[39m \u001b[43mresponse\u001b[49m\u001b[38;5;241m.\u001b[39mtext\n\u001b[1;32m      5\u001b[0m soup \u001b[38;5;241m=\u001b[39m BeautifulSoup(html, \u001b[38;5;124m\"\u001b[39m\u001b[38;5;124mhtml.parser\u001b[39m\u001b[38;5;124m\"\u001b[39m)\n\u001b[1;32m      7\u001b[0m \u001b[38;5;66;03m# Intentamos encontrar la tabla correcta\u001b[39;00m\n",
      "\u001b[0;31mNameError\u001b[0m: name 'response' is not defined"
     ]
    }
   ],
   "source": [
    "import pandas as pd\n",
    "from bs4 import BeautifulSoup\n",
    "\n",
    "html = response.text\n",
    "soup = BeautifulSoup(html, \"html.parser\")\n",
    "\n",
    "# Intentamos encontrar la tabla correcta\n",
    "tables = soup.find_all(\"table\")\n",
    "print(f\"Se encontraron {len(tables)} tablas.\")  # Verificar cuántas tablas hay\n",
    "\n",
    "for i, table in enumerate(tables):\n",
    "    df = pd.read_html(str(table))[0]\n",
    "    print(f\"Tabla {i}: {df.head()}\")  # Revisar contenido\n",
    "\n",
    "# Una vez que identifiquemos la tabla correcta, seleccionamos su índice y extraemos los datos\n",
    "tesla_revenue = pd.read_html(str(tables[1]))[0]  # Ajusta el índice si es necesario\n",
    "tesla_revenue.columns = [\"Date\", \"Revenue\"]\n",
    "tesla_revenue.dropna(inplace=True)\n",
    "print(tesla_revenue.tail())\n"
   ]
  },
  {
   "cell_type": "code",
   "execution_count": 14,
   "id": "47dbbbd9-633c-46ee-966a-fa23cf80bc7f",
   "metadata": {},
   "outputs": [
    {
     "name": "stdout",
     "output_type": "stream",
     "text": [
      "Página cargada correctamente.\n"
     ]
    }
   ],
   "source": [
    "import requests\n",
    "\n",
    "url = \"https://www.macrotrends.net/stocks/charts/TSLA/tesla/revenue\"\n",
    "headers = {\"User-Agent\": \"Mozilla/5.0\"}\n",
    "\n",
    "response = requests.get(url, headers=headers)\n",
    "\n",
    "if response.status_code == 200:\n",
    "    print(\"Página cargada correctamente.\")\n",
    "else:\n",
    "    print(f\"Error al cargar la página: {response.status_code}\")\n"
   ]
  },
  {
   "cell_type": "code",
   "execution_count": 15,
   "id": "4715e20f-fd6d-46bb-a183-717ce2b31659",
   "metadata": {},
   "outputs": [
    {
     "name": "stdout",
     "output_type": "stream",
     "text": [
      "Se encontraron 6 tablas.\n",
      "Tabla 0:\n",
      "   Tesla Annual Revenue (Millions of US $)  \\\n",
      "0                                     2024   \n",
      "1                                     2023   \n",
      "2                                     2022   \n",
      "3                                     2021   \n",
      "4                                     2020   \n",
      "\n",
      "  Tesla Annual Revenue (Millions of US $).1  \n",
      "0                                   $97,690  \n",
      "1                                   $96,773  \n",
      "2                                   $81,462  \n",
      "3                                   $53,823  \n",
      "4                                   $31,536  \n",
      "Tabla 1:\n",
      "  Tesla Quarterly Revenue (Millions of US $)  \\\n",
      "0                                 2024-12-31   \n",
      "1                                 2024-09-30   \n",
      "2                                 2024-06-30   \n",
      "3                                 2024-03-31   \n",
      "4                                 2023-12-31   \n",
      "\n",
      "  Tesla Quarterly Revenue (Millions of US $).1  \n",
      "0                                      $25,707  \n",
      "1                                      $25,182  \n",
      "2                                      $25,500  \n",
      "3                                      $21,301  \n",
      "4                                      $25,167  \n",
      "Tabla 2:\n",
      "                                              Sector  \\\n",
      "0                                  Auto/Tires/Trucks   \n",
      "1  Tesla is the market leader in battery-powered ...   \n",
      "\n",
      "                                            Industry  \\\n",
      "0                      Auto Manufacturers - Domestic   \n",
      "1  Tesla is the market leader in battery-powered ...   \n",
      "\n",
      "                                          Market Cap  \\\n",
      "0                                         $1063.155B   \n",
      "1  Tesla is the market leader in battery-powered ...   \n",
      "\n",
      "                                             Revenue  \n",
      "0                                           $97.690B  \n",
      "1  Tesla is the market leader in battery-powered ...  \n",
      "Tabla 3:\n",
      "                 Stock Name        Country Market Cap  PE Ratio\n",
      "0             PACCAR (PCAR)  United States   $55.760B     13.43\n",
      "1       General Motors (GM)  United States   $46.337B      4.41\n",
      "2            Ford Motor (F)  United States   $37.058B      5.08\n",
      "3  Rivian Automotive (RIVN)  United States   $12.207B      0.00\n",
      "4        VinFast Auto (VFS)            NaN    $8.770B      0.00\n",
      "Tabla 4:\n",
      "                     Link Preview  HTML Code (Click to Copy)\n",
      "0  Tesla Revenue 2010-2024 | TSLA                        NaN\n",
      "1                     Macrotrends                        NaN\n",
      "2                          Source                        NaN\n",
      "Tabla 5:\n",
      "                     Link Preview  HTML Code (Click to Copy)\n",
      "0  Tesla Revenue 2010-2024 | TSLA                        NaN\n",
      "1                     Macrotrends                        NaN\n",
      "2                          Source                        NaN\n",
      "          Date Revenue\n",
      "57  2010-09-30     $31\n",
      "58  2010-06-30     $28\n",
      "59  2010-03-31     $21\n",
      "61  2009-09-30     $46\n",
      "62  2009-06-30     $27\n"
     ]
    },
    {
     "name": "stderr",
     "output_type": "stream",
     "text": [
      "/tmp/ipykernel_1090/322582887.py:15: FutureWarning: Passing literal html to 'read_html' is deprecated and will be removed in a future version. To read from a literal string, wrap it in a 'StringIO' object.\n",
      "  df = pd.read_html(str(table))[0]\n",
      "/tmp/ipykernel_1090/322582887.py:15: FutureWarning: Passing literal html to 'read_html' is deprecated and will be removed in a future version. To read from a literal string, wrap it in a 'StringIO' object.\n",
      "  df = pd.read_html(str(table))[0]\n",
      "/tmp/ipykernel_1090/322582887.py:15: FutureWarning: Passing literal html to 'read_html' is deprecated and will be removed in a future version. To read from a literal string, wrap it in a 'StringIO' object.\n",
      "  df = pd.read_html(str(table))[0]\n",
      "/tmp/ipykernel_1090/322582887.py:15: FutureWarning: Passing literal html to 'read_html' is deprecated and will be removed in a future version. To read from a literal string, wrap it in a 'StringIO' object.\n",
      "  df = pd.read_html(str(table))[0]\n",
      "/tmp/ipykernel_1090/322582887.py:15: FutureWarning: Passing literal html to 'read_html' is deprecated and will be removed in a future version. To read from a literal string, wrap it in a 'StringIO' object.\n",
      "  df = pd.read_html(str(table))[0]\n",
      "/tmp/ipykernel_1090/322582887.py:15: FutureWarning: Passing literal html to 'read_html' is deprecated and will be removed in a future version. To read from a literal string, wrap it in a 'StringIO' object.\n",
      "  df = pd.read_html(str(table))[0]\n",
      "/tmp/ipykernel_1090/322582887.py:22: FutureWarning: Passing literal html to 'read_html' is deprecated and will be removed in a future version. To read from a literal string, wrap it in a 'StringIO' object.\n",
      "  tesla_revenue = pd.read_html(str(tables[1]))[0]  # Prueba con otro índice si falla\n"
     ]
    }
   ],
   "source": [
    "import pandas as pd\n",
    "from bs4 import BeautifulSoup\n",
    "\n",
    "html = response.text\n",
    "soup = BeautifulSoup(html, \"html.parser\")\n",
    "\n",
    "# Buscar todas las tablas disponibles\n",
    "tables = soup.find_all(\"table\")\n",
    "print(f\"Se encontraron {len(tables)} tablas.\")\n",
    "\n",
    "# Si hay tablas, intentamos extraer la que contiene los ingresos\n",
    "if len(tables) > 0:\n",
    "    for i, table in enumerate(tables):\n",
    "        try:\n",
    "            df = pd.read_html(str(table))[0]\n",
    "            print(f\"Tabla {i}:\")\n",
    "            print(df.head())  # Ver contenido\n",
    "        except:\n",
    "            print(f\"Error procesando la tabla {i}\")\n",
    "\n",
    "    # Ajusta el índice según la tabla correcta\n",
    "    tesla_revenue = pd.read_html(str(tables[1]))[0]  # Prueba con otro índice si falla\n",
    "    tesla_revenue.columns = [\"Date\", \"Revenue\"]\n",
    "    tesla_revenue.dropna(inplace=True)\n",
    "    print(tesla_revenue.tail())\n",
    "else:\n",
    "    print(\"No se encontraron tablas en la página.\")\n"
   ]
  },
  {
   "cell_type": "markdown",
   "id": "1b30e872-e20c-4861-b609-0eddf7b01632",
   "metadata": {},
   "source": [
    "2"
   ]
  },
  {
   "cell_type": "code",
   "execution_count": 17,
   "id": "b4662222-721e-4141-b43f-b1ca6521a99f",
   "metadata": {},
   "outputs": [
    {
     "name": "stdout",
     "output_type": "stream",
     "text": [
      "        Date        Revenue\n",
      "0 2024-12-31  97690000000.0\n",
      "1 2023-12-31  96773000000.0\n",
      "2 2022-12-31  81462000000.0\n",
      "3 2021-12-31  53823000000.0\n",
      "4 2020-12-31            NaN\n"
     ]
    }
   ],
   "source": [
    "import yfinance as yf\n",
    "\n",
    "# Descargar los datos financieros de Tesla\n",
    "tesla = yf.Ticker(\"TSLA\")\n",
    "\n",
    "# Obtener el estado financiero (Ingresos y Ganancias)\n",
    "tesla_financials = tesla.financials.T  # Transponemos para mejor visualización\n",
    "tesla_revenue = tesla_financials[\"Total Revenue\"]\n",
    "tesla_revenue = tesla_revenue.reset_index()\n",
    "tesla_revenue.columns = [\"Date\", \"Revenue\"]\n",
    "\n",
    "# Mostrar resultados\n",
    "print(tesla_revenue)\n",
    "\n"
   ]
  },
  {
   "cell_type": "markdown",
   "id": "da65b87a-a714-41a5-80aa-10f0ef7aacb9",
   "metadata": {},
   "source": [
    "3"
   ]
  },
  {
   "cell_type": "code",
   "execution_count": 3,
   "id": "646a4a57-f962-475a-b16d-4e1ef6772085",
   "metadata": {},
   "outputs": [
    {
     "name": "stdout",
     "output_type": "stream",
     "text": [
      "                       Date      Open      High       Low     Close    Volume  \\\n",
      "0 2002-02-13 00:00:00-05:00  1.620128  1.693350  1.603296  1.691667  76216000   \n",
      "1 2002-02-14 00:00:00-05:00  1.712708  1.716074  1.670626  1.683251  11021600   \n",
      "2 2002-02-15 00:00:00-05:00  1.683250  1.687458  1.658001  1.674834   8389600   \n",
      "3 2002-02-19 00:00:00-05:00  1.666418  1.666418  1.578048  1.607505   7410400   \n",
      "4 2002-02-20 00:00:00-05:00  1.615920  1.662209  1.603295  1.662209   6892800   \n",
      "\n",
      "   Dividends  Stock Splits  \n",
      "0        0.0           0.0  \n",
      "1        0.0           0.0  \n",
      "2        0.0           0.0  \n",
      "3        0.0           0.0  \n",
      "4        0.0           0.0  \n"
     ]
    }
   ],
   "source": [
    "# Obtener datos de acciones de GameStop\n",
    "gme = yf.Ticker(\"GME\")\n",
    "gme_data = gme.history(period=\"max\")\n",
    "\n",
    "# Reiniciar el índice y mostrar las primeras 5 filas\n",
    "gme_data.reset_index(inplace=True)\n",
    "print(gme_data.head())\n"
   ]
  },
  {
   "cell_type": "markdown",
   "id": "e891afdb-26f9-48b0-9647-c9a1c064a86c",
   "metadata": {},
   "source": [
    "4"
   ]
  },
  {
   "cell_type": "code",
   "execution_count": 18,
   "id": "5f142b77-8a8b-460d-8366-3c852b535031",
   "metadata": {},
   "outputs": [
    {
     "name": "stdout",
     "output_type": "stream",
     "text": [
      "        Date       Revenue\n",
      "0 2024-01-31  5272800000.0\n",
      "1 2023-01-31  5927200000.0\n",
      "2 2022-01-31  6010700000.0\n",
      "3 2021-01-31  5089800000.0\n"
     ]
    }
   ],
   "source": [
    "# Descargar los datos financieros de GameStop\n",
    "gamestop = yf.Ticker(\"GME\")\n",
    "\n",
    "# Obtener el estado financiero (Ingresos y Ganancias)\n",
    "gamestop_financials = gamestop.financials.T\n",
    "gamestop_revenue = gamestop_financials[\"Total Revenue\"]\n",
    "gamestop_revenue = gamestop_revenue.reset_index()\n",
    "gamestop_revenue.columns = [\"Date\", \"Revenue\"]\n",
    "\n",
    "# Mostrar resultados\n",
    "print(gamestop_revenue)\n",
    "\n"
   ]
  },
  {
   "cell_type": "markdown",
   "id": "ab45cf7b-6f9e-4676-a73b-6e4053e350bc",
   "metadata": {},
   "source": [
    "5"
   ]
  },
  {
   "cell_type": "code",
   "execution_count": 5,
   "id": "6d9e126b-d269-420f-8d9d-412ea64b534f",
   "metadata": {},
   "outputs": [
    {
     "data": {
      "image/png": "[encoded data removed]",
      "text/plain": [
       "<Figure size 1000x500 with 1 Axes>"
      ]
     },
     "metadata": {},
     "output_type": "display_data"
    }
   ],
   "source": [
    "import matplotlib.pyplot as plt\n",
    "\n",
    "# Gráfico de precios de Tesla\n",
    "plt.figure(figsize=(10, 5))\n",
    "plt.plot(tesla_data[\"Date\"], tesla_data[\"Close\"], label=\"Tesla Stock Price\", color=\"blue\")\n",
    "plt.xlabel(\"Fecha\")\n",
    "plt.ylabel(\"Precio de Cierre (USD)\")\n",
    "plt.title(\"Historial del Precio de Tesla\")\n",
    "plt.legend()\n",
    "plt.show()\n"
   ]
  },
  {
   "cell_type": "markdown",
   "id": "1f7955b8-0615-40ca-a471-302471a14a6e",
   "metadata": {},
   "source": [
    "6"
   ]
  },
  {
   "cell_type": "code",
   "execution_count": 6,
   "id": "722b283d-2379-4954-a937-c1f27bb0765d",
   "metadata": {},
   "outputs": [
    {
     "data": {
      "image/png": "[encoded data removed]",
      "text/plain": [
       "<Figure size 1000x500 with 1 Axes>"
      ]
     },
     "metadata": {},
     "output_type": "display_data"
    }
   ],
   "source": [
    "# Gráfico de precios de GameStop\n",
    "plt.figure(figsize=(10, 5))\n",
    "plt.plot(gme_data[\"Date\"], gme_data[\"Close\"], label=\"GameStop Stock Price\", color=\"red\")\n",
    "plt.xlabel(\"Fecha\")\n",
    "plt.ylabel(\"Precio de Cierre (USD)\")\n",
    "plt.title(\"Historial del Precio de GameStop\")\n",
    "plt.legend()\n",
    "plt.show()\n"
   ]
  },
  {
   "cell_type": "code",
   "execution_count": null,
   "id": "7afd0168-23f6-4c87-9c60-abcb3f9f07d0",
   "metadata": {},
   "outputs": [],
   "source": []
  }
 ],
 "metadata": {
  "kernelspec": {
   "display_name": "Python 3 (ipykernel)",
   "language": "python",
   "name": "python3"
  },
  "language_info": {
   "codemirror_mode": {
    "name": "ipython",
    "version": 3
   },
   "file_extension": ".py",
   "mimetype": "text/x-python",
   "name": "python",
   "nbconvert_exporter": "python",
   "pygments_lexer": "ipython3",
   "version": "3.12.8"
  }
 },
 "nbformat": 4,
 "nbformat_minor": 5
}
